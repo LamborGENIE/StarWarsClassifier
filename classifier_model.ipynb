{
 "cells": [
  {
   "cell_type": "code",
   "execution_count": 2,
   "id": "503576d3",
   "metadata": {},
   "outputs": [
    {
     "name": "stdout",
     "output_type": "stream",
     "text": [
      "               timestamp  unit_id           unit_type empire_or_resistance  \\\n",
      "0    2023-10-10 10:11:57        1  resistance_soldier           resistance   \n",
      "1    2023-10-10 10:11:56        2  resistance_soldier               empire   \n",
      "2    2023-10-10 10:11:55        3               at-at           resistance   \n",
      "3    2023-10-10 10:11:54        4              x-wing               empire   \n",
      "4    2023-10-10 10:11:53        5         tie_fighter           resistance   \n",
      "..                   ...      ...                 ...                  ...   \n",
      "995  2023-10-10 09:55:22      996               at-st               empire   \n",
      "996  2023-10-10 09:55:21      997         tie_fighter               empire   \n",
      "997  2023-10-10 09:55:20      998         tie_fighter           resistance   \n",
      "998  2023-10-10 09:55:19      999         tie_fighter               empire   \n",
      "999  2023-10-10 09:55:18     1000               at-st               empire   \n",
      "\n",
      "     location_x  location_y  destination_x  destination_y     homeworld  \\\n",
      "0             7           1              9              6       Tholoth   \n",
      "1             9           1              3              2      Alderaan   \n",
      "2             4           8              1              7  Concord Dawn   \n",
      "3             5          10              4              6    Haruun Kal   \n",
      "4             3           3             10              3      Alderaan   \n",
      "..          ...         ...            ...            ...           ...   \n",
      "995           1           1              9             10    Muunilinst   \n",
      "996           5           4              7              3        Eriadu   \n",
      "997           9           7              7              8          Tund   \n",
      "998           7          10              9              3      Corellia   \n",
      "999           4           4              2              9      Alderaan   \n",
      "\n",
      "    is_resistance  \n",
      "0            True  \n",
      "1           False  \n",
      "2            True  \n",
      "3           False  \n",
      "4            True  \n",
      "..            ...  \n",
      "995         False  \n",
      "996         False  \n",
      "997          True  \n",
      "998         False  \n",
      "999         False  \n",
      "\n",
      "[1000 rows x 10 columns]\n"
     ]
    }
   ],
   "source": [
    "import pandas as pd\n",
    "from sklearn.tree import DecisionTreeClassifier\n",
    "from sklearn.model_selection import train_test_split\n",
    "from sklearn.metrics import accuracy_score\n",
    "import seaborn as sns\n",
    "import matplotlib.pyplot as plt\n",
    "import matplotlib.ticker as ticker\n",
    "\n",
    "url = \"C:/Workspace/StarWarsClassifier/troop_movements.csv\"\n",
    "data = pd.read_csv(url)\n",
    "\n",
    "df = pd.DataFrame(data)\n",
    "\n",
    "X = df[['homeworld', 'unit_type']]\n",
    "\n",
    "df['is_resistance'] = df['empire_or_resistance'].apply(lambda x: 'True' if x == \"resistance\" else \"False\")\n",
    "print(df)\n",
    "\n",
    "# X_encoded = pd.get_dummies(X)\n",
    "\n",
    "# X_train, X_test, y_train, y_test = train_test_split(X_encoded, y, test_size=0.2, random_state=42)\n",
    "\n",
    "# model = DecisionTreeClassifier()\n",
    "# model.fit(X_train, y_train)\n",
    "# pred = model.predict(X_test)\n",
    "\n",
    "# accuracy = accuracy_score(y_test, pred)\n",
    "# print(accuracy)\n",
    "\n",
    "# importances = model.feature_importances_\n",
    "# feature_importances = pd.DataFrame({'Feature': X_encoded.columns, 'Importance': importances})"
   ]
  },
  {
   "cell_type": "code",
   "execution_count": 15,
   "id": "2632b0d1",
   "metadata": {},
   "outputs": [
    {
     "name": "stdout",
     "output_type": "stream",
     "text": [
      "  empire_or_resistance  count\n",
      "0               empire    505\n",
      "1           resistance    495\n"
     ]
    }
   ],
   "source": [
    "faction_count_df = df.empire_or_resistance.value_counts().reset_index().rename(columns={\"index\": \"empire_or_resistance\", \"empire_or_resistance\": \"count\"})\n",
    "print(faction_count_df)"
   ]
  },
  {
   "cell_type": "code",
   "execution_count": 17,
   "id": "c4f0b0d0",
   "metadata": {},
   "outputs": [
    {
     "name": "stdout",
     "output_type": "stream",
     "text": [
      "       homeworld  count\n",
      "0   Concord Dawn     42\n",
      "1           Tund     32\n",
      "2          Kalee     29\n",
      "3        Sullust     29\n",
      "4        Serenno     28\n",
      "5          Naboo     28\n",
      "6         Mirial     27\n",
      "7       Kashyyyk     27\n",
      "8       Toydaria     27\n",
      "9         Ryloth     27\n",
      "10        Eriadu     27\n",
      "11         Cerea     26\n",
      "12         Dorin     26\n",
      "13      Iridonia     26\n",
      "14      Alderaan     25\n",
      "15   Aleen Minor     25\n",
      "16         Skako     25\n",
      "17     Malastare     25\n",
      "18         Shili     25\n",
      "19         Rodia     24\n",
      "20      Tatooine     24\n",
      "21          Ojom     24\n",
      "22     Chandrila     23\n",
      "23    Bestine IV     23\n",
      "24       Tholoth     23\n",
      "25       Stewjon     23\n",
      "26       Vulpter     23\n",
      "27      Mon Cala     22\n",
      "28        Umbara     22\n",
      "29      Corellia     21\n",
      "30      Champala     21\n",
      "31     Trandosha     21\n",
      "32       Socorro     20\n",
      "33       Iktotch     20\n",
      "34      Dathomir     20\n",
      "35    Haruun Kal     20\n",
      "36    Muunilinst     19\n",
      "37       Troiken     17\n",
      "38         Zolan     17\n",
      "39       Quermia     16\n",
      "40       Dagobah     16\n",
      "41   Glee Anselm     15\n"
     ]
    }
   ],
   "source": [
    "homeworld_count_df = df.homeworld.value_counts().reset_index().rename(columns={\"index\": \"homeworld\", \"homeworld\": \"count\"})\n",
    "print(homeworld_count_df)"
   ]
  },
  {
   "cell_type": "code",
   "execution_count": 19,
   "id": "0168588c",
   "metadata": {},
   "outputs": [
    {
     "name": "stdout",
     "output_type": "stream",
     "text": [
      "            unit_type  count\n",
      "0         tie_fighter    132\n",
      "1        stormtrooper    132\n",
      "2        tie_silencer    132\n",
      "3              x-wing    126\n",
      "4  resistance_soldier    125\n",
      "5             unknown    121\n",
      "6               at-at    118\n",
      "7               at-st    114\n"
     ]
    }
   ],
   "source": [
    "unit_count_df = df.unit_type.value_counts().reset_index().rename(columns={\"index\": \"unit_type\", \"unit_type\": \"count\"})\n",
    "print(unit_count_df)"
   ]
  },
  {
   "cell_type": "code",
   "execution_count": null,
   "id": "ee13ee8a",
   "metadata": {},
   "outputs": [],
   "source": []
  }
 ],
 "metadata": {
  "kernelspec": {
   "display_name": "Python 3 (ipykernel)",
   "language": "python",
   "name": "python3"
  },
  "language_info": {
   "codemirror_mode": {
    "name": "ipython",
    "version": 3
   },
   "file_extension": ".py",
   "mimetype": "text/x-python",
   "name": "python",
   "nbconvert_exporter": "python",
   "pygments_lexer": "ipython3",
   "version": "3.10.9"
  }
 },
 "nbformat": 4,
 "nbformat_minor": 5
}
