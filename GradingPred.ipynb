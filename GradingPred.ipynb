{
 "cells": [
  {
   "cell_type": "code",
   "execution_count": 17,
   "id": "00c81d3b",
   "metadata": {},
   "outputs": [
    {
     "name": "stdout",
     "output_type": "stream",
     "text": [
      "  Grade StudyTime  Score  Pass PassOrFail\n",
      "0     A      High     85     1       Pass\n",
      "1     B       Low     70     1       Pass\n",
      "2     C    Medium     60     0       Fail\n",
      "3     A      High     90     1       Pass\n",
      "4     B    Medium     75     1       Pass\n",
      "5     C       Low     65     0       Fail\n",
      "            Feature  Importance\n",
      "0           Grade_A         0.0\n",
      "1           Grade_B         0.0\n",
      "2           Grade_C         1.0\n",
      "3    StudyTime_High         0.0\n",
      "4     StudyTime_Low         0.0\n",
      "5  StudyTime_Medium         0.0\n"
     ]
    }
   ],
   "source": [
    "import pandas as pd\n",
    "from sklearn.tree import DecisionTreeClassifier\n",
    "from sklearn.model_selection import train_test_split\n",
    "from sklearn.metrics import accuracy_score\n",
    "import seaborn as sns\n",
    "import matplotlib.pyplot as plt\n",
    "import matplotlib.ticker as ticker\n",
    "\n",
    "# Create a sample dataset\n",
    "data = {\n",
    "    'Grade': ['A', 'B', 'C', 'A', 'B', 'C'],\n",
    "    'StudyTime': ['High', 'Low', 'Medium', 'High', 'Medium', 'Low'],\n",
    "    'Score': [85, 70, 60, 90, 75, 65],\n",
    "    'Pass': [1, 1, 0, 1, 1, 0]\n",
    "}\n",
    "\n",
    "#def passOrFail(x):\n",
    "#   if x==1:\n",
    "#        return 'Pass'\n",
    "#    else:\n",
    "#        return 'Fail'\n",
    "    \n",
    "df = pd.DataFrame(data)\n",
    "df['PassOrFail'] = df['Pass'].apply(lambda x: 'Pass' if x == 1 else 'Fail')\n",
    "print(df)\n",
    "\n",
    "X = df[['Grade','StudyTime']]\n",
    "y = df['Pass']\n",
    "\n",
    "X_encoded = pd.get_dummies(X)\n",
    "X_train, X_test, Y_train, Y_test = train_test_split(X_encoded, y, test_size=0.2, random_state=42)\n",
    "\n",
    "model = DecisionTreeClassifier()\n",
    "model.fit(X_train,Y_train)\n",
    "\n",
    "y_pred = model.predict(X_test)\n",
    "accuracy = accuracy_score(Y_test, y_pred)\n",
    "\n",
    "importances = model.feature_importances_\n",
    "feature_importances = pd.DataFrame({'Feature' : X_encoded.columns, 'Importance': importances})\n",
    "print(feature_importances)\n"
   ]
  },
  {
   "cell_type": "code",
   "execution_count": null,
   "id": "a2d0e09d",
   "metadata": {},
   "outputs": [],
   "source": []
  }
 ],
 "metadata": {
  "kernelspec": {
   "display_name": "Python 3 (ipykernel)",
   "language": "python",
   "name": "python3"
  },
  "language_info": {
   "codemirror_mode": {
    "name": "ipython",
    "version": 3
   },
   "file_extension": ".py",
   "mimetype": "text/x-python",
   "name": "python",
   "nbconvert_exporter": "python",
   "pygments_lexer": "ipython3",
   "version": "3.10.9"
  }
 },
 "nbformat": 4,
 "nbformat_minor": 5
}
