{
 "cells": [
  {
   "cell_type": "code",
   "execution_count": 21,
   "id": "9f40f43b",
   "metadata": {},
   "outputs": [
    {
     "name": "stdout",
     "output_type": "stream",
     "text": [
      "     homeworld     unit_type\n",
      "0  Glee Anselm         at-st\n",
      "1    Trandosha  tie_silencer\n",
      "2     Corellia         at-at\n",
      "3        Shili  tie_silencer\n",
      "4   Muunilinst   tie_fighter\n"
     ]
    }
   ],
   "source": [
    "import pandas as pd\n",
    "from sklearn.tree import DecisionTreeClassifier\n",
    "from sklearn.model_selection import train_test_split\n",
    "from sklearn.metrics import accuracy_score\n",
    "import seaborn as sns\n",
    "import matplotlib.pyplot as plt\n",
    "import matplotlib.ticker as ticker\n",
    "import pickle\n",
    "\n",
    "url = \"C:/Workspace/StarWarsClassifier/troop_movements10m.parquet\"\n",
    "data = pd.read_parquet(url)\n",
    "\n",
    "\n",
    "#['timestamp','unit_id','unit_type','location_x','location_y','destination_x','destination_y','homeworld'])\n",
    "\n",
    "df = data[['homeworld','unit_type']]\n",
    "print(df.head())\n",
    "\n",
    "\n",
    "\n"
   ]
  },
  {
   "cell_type": "code",
   "execution_count": 22,
   "id": "dc582d27",
   "metadata": {},
   "outputs": [
    {
     "ename": "EOFError",
     "evalue": "Ran out of input",
     "output_type": "error",
     "traceback": [
      "\u001b[1;31m---------------------------------------------------------------------------\u001b[0m",
      "\u001b[1;31mEOFError\u001b[0m                                  Traceback (most recent call last)",
      "Cell \u001b[1;32mIn[22], line 4\u001b[0m\n\u001b[0;32m      1\u001b[0m df_dummies \u001b[38;5;241m=\u001b[39m pd\u001b[38;5;241m.\u001b[39mget_dummies(df)\n\u001b[0;32m      3\u001b[0m \u001b[38;5;28;01mwith\u001b[39;00m \u001b[38;5;28mopen\u001b[39m(\u001b[38;5;124m'\u001b[39m\u001b[38;5;124mmodel.pkl\u001b[39m\u001b[38;5;124m'\u001b[39m, \u001b[38;5;124m'\u001b[39m\u001b[38;5;124mrb\u001b[39m\u001b[38;5;124m'\u001b[39m) \u001b[38;5;28;01mas\u001b[39;00m f:\n\u001b[1;32m----> 4\u001b[0m     model \u001b[38;5;241m=\u001b[39m \u001b[43mpickle\u001b[49m\u001b[38;5;241;43m.\u001b[39;49m\u001b[43mload\u001b[49m\u001b[43m(\u001b[49m\u001b[43mf\u001b[49m\u001b[43m)\u001b[49m\n\u001b[0;32m      6\u001b[0m predictions \u001b[38;5;241m=\u001b[39m model\u001b[38;5;241m.\u001b[39mpredict(df_dummies)\n",
      "\u001b[1;31mEOFError\u001b[0m: Ran out of input"
     ]
    }
   ],
   "source": [
    "df_dummies = pd.get_dummies(df)\n",
    "\n",
    "with open('model.pkl', 'rb') as f:\n",
    "    model = pickle.load(f)\n",
    "\n",
    "predictions = model.predict(df_dummies)\n",
    "\n",
    "\n",
    "\n"
   ]
  },
  {
   "cell_type": "code",
   "execution_count": 19,
   "id": "a1056897",
   "metadata": {},
   "outputs": [
    {
     "data": {
      "text/plain": [
       "<bound method NDFrame.head of                    timestamp   unit_id           unit_type  location_x  \\\n",
       "0        2023-06-13 17:33:18         1               at-st         2.0   \n",
       "1        2023-06-13 17:33:17         2        tie_silencer         4.0   \n",
       "2        2023-06-13 17:33:16         3               at-at         0.0   \n",
       "3        2023-06-13 17:33:15         4        tie_silencer         6.0   \n",
       "4        2023-06-13 17:33:14         5         tie_fighter         0.0   \n",
       "...                      ...       ...                 ...         ...   \n",
       "9999995  2023-02-18 10:26:20   9999996  resistance_soldier         6.0   \n",
       "9999996  2023-02-18 10:26:19   9999997        tie_silencer         8.0   \n",
       "9999997  2023-02-18 10:26:18   9999998         tie_fighter         7.0   \n",
       "9999998  2023-02-18 10:26:17   9999999         tie_fighter         6.0   \n",
       "9999999  2023-02-18 10:26:16  10000000             unknown         6.0   \n",
       "\n",
       "         location_y  destination_x  destination_y    homeworld Predictions  \n",
       "0               8.0              1              1  Glee Anselm       False  \n",
       "1               4.0              0              1    Trandosha       False  \n",
       "2               3.0              6              1     Corellia       False  \n",
       "3               1.0              6              9        Shili       False  \n",
       "4               4.0              9              6   Muunilinst       False  \n",
       "...             ...            ...            ...          ...         ...  \n",
       "9999995         6.0              1              3      Troiken        True  \n",
       "9999996         6.0              2              0     Kashyyyk        True  \n",
       "9999997         7.0              6              4     Kashyyyk       False  \n",
       "9999998         6.0              8              8        Kalee       False  \n",
       "9999999         6.0              3              0        Skako       False  \n",
       "\n",
       "[10000000 rows x 9 columns]>"
      ]
     },
     "execution_count": 19,
     "metadata": {},
     "output_type": "execute_result"
    }
   ],
   "source": [
    "data['Predictions'] = predictions\n",
    "data.head"
   ]
  }
 ],
 "metadata": {
  "kernelspec": {
   "display_name": "Python 3 (ipykernel)",
   "language": "python",
   "name": "python3"
  },
  "language_info": {
   "codemirror_mode": {
    "name": "ipython",
    "version": 3
   },
   "file_extension": ".py",
   "mimetype": "text/x-python",
   "name": "python",
   "nbconvert_exporter": "python",
   "pygments_lexer": "ipython3",
   "version": "3.10.9"
  }
 },
 "nbformat": 4,
 "nbformat_minor": 5
}
