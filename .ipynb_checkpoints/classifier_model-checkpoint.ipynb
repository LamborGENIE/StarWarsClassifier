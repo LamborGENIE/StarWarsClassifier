{
 "cells": [
  {
   "cell_type": "code",
   "execution_count": 2,
   "id": "503576d3",
   "metadata": {},
   "outputs": [
    {
     "name": "stdout",
     "output_type": "stream",
     "text": [
      "               timestamp  unit_id           unit_type empire_or_resistance  \\\n",
      "0    2023-10-10 10:11:57        1  resistance_soldier           resistance   \n",
      "1    2023-10-10 10:11:56        2  resistance_soldier               empire   \n",
      "2    2023-10-10 10:11:55        3               at-at           resistance   \n",
      "3    2023-10-10 10:11:54        4              x-wing               empire   \n",
      "4    2023-10-10 10:11:53        5         tie_fighter           resistance   \n",
      "..                   ...      ...                 ...                  ...   \n",
      "995  2023-10-10 09:55:22      996               at-st               empire   \n",
      "996  2023-10-10 09:55:21      997         tie_fighter               empire   \n",
      "997  2023-10-10 09:55:20      998         tie_fighter           resistance   \n",
      "998  2023-10-10 09:55:19      999         tie_fighter               empire   \n",
      "999  2023-10-10 09:55:18     1000               at-st               empire   \n",
      "\n",
      "     location_x  location_y  destination_x  destination_y     homeworld  \\\n",
      "0             7           1              9              6       Tholoth   \n",
      "1             9           1              3              2      Alderaan   \n",
      "2             4           8              1              7  Concord Dawn   \n",
      "3             5          10              4              6    Haruun Kal   \n",
      "4             3           3             10              3      Alderaan   \n",
      "..          ...         ...            ...            ...           ...   \n",
      "995           1           1              9             10    Muunilinst   \n",
      "996           5           4              7              3        Eriadu   \n",
      "997           9           7              7              8          Tund   \n",
      "998           7          10              9              3      Corellia   \n",
      "999           4           4              2              9      Alderaan   \n",
      "\n",
      "    is_resistance  \n",
      "0            True  \n",
      "1           False  \n",
      "2            True  \n",
      "3           False  \n",
      "4            True  \n",
      "..            ...  \n",
      "995         False  \n",
      "996         False  \n",
      "997          True  \n",
      "998         False  \n",
      "999         False  \n",
      "\n",
      "[1000 rows x 10 columns]\n"
     ]
    }
   ],
   "source": [
    "import pandas as pd\n",
    "from sklearn.tree import DecisionTreeClassifier\n",
    "from sklearn.model_selection import train_test_split\n",
    "from sklearn.metrics import accuracy_score\n",
    "import seaborn as sns\n",
    "import matplotlib.pyplot as plt\n",
    "import matplotlib.ticker as ticker\n",
    "\n",
    "url = \"C:/Workspace/StarWarsClassifier/troop_movements.csv\"\n",
    "data = pd.read_csv(url)\n",
    "\n",
    "df = pd.DataFrame(data)\n",
    "\n",
    "X = df[['homeworld', 'unit_type']]\n",
    "\n",
    "df['is_resistance'] = df['empire_or_resistance'].apply(lambda x: 'True' if x == \"resistance\" else \"False\")\n",
    "print(df)\n",
    "\n",
    "# X_encoded = pd.get_dummies(X)\n",
    "\n",
    "# X_train, X_test, y_train, y_test = train_test_split(X_encoded, y, test_size=0.2, random_state=42)\n",
    "\n",
    "# model = DecisionTreeClassifier()\n",
    "# model.fit(X_train, y_train)\n",
    "# pred = model.predict(X_test)\n",
    "\n",
    "# accuracy = accuracy_score(y_test, pred)\n",
    "# print(accuracy)\n",
    "\n",
    "# importances = model.feature_importances_\n",
    "# feature_importances = pd.DataFrame({'Feature': X_encoded.columns, 'Importance': importances})"
   ]
  },
  {
   "cell_type": "code",
   "execution_count": 3,
   "id": "af2d1714",
   "metadata": {},
   "outputs": [
    {
     "name": "stdout",
     "output_type": "stream",
     "text": [
      "False    505\n",
      "True     495\n",
      "Name: is_resistance, dtype: int64\n"
     ]
    }
   ],
   "source": [
    "#counts_df = df.is_resistance.value_counts()\n",
    "#print(counts_df)"
   ]
  },
  {
   "cell_type": "code",
   "execution_count": null,
   "id": "f1955f40",
   "metadata": {},
   "outputs": [],
   "source": []
  },
  {
   "cell_type": "code",
   "execution_count": null,
   "id": "777de9d5",
   "metadata": {},
   "outputs": [],
   "source": []
  }
 ],
 "metadata": {
  "kernelspec": {
   "display_name": "Python 3 (ipykernel)",
   "language": "python",
   "name": "python3"
  },
  "language_info": {
   "codemirror_mode": {
    "name": "ipython",
    "version": 3
   },
   "file_extension": ".py",
   "mimetype": "text/x-python",
   "name": "python",
   "nbconvert_exporter": "python",
   "pygments_lexer": "ipython3",
   "version": "3.10.9"
  }
 },
 "nbformat": 4,
 "nbformat_minor": 5
}
